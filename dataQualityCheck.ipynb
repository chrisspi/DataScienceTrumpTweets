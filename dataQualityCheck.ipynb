{
 "cells": [
  {
   "cell_type": "markdown",
   "metadata": {},
   "source": [
    "<h2> Loading the Data sets </h2>"
   ]
  },
  {
   "cell_type": "code",
   "execution_count": 47,
   "metadata": {
    "scrolled": true
   },
   "outputs": [
    {
     "data": {
      "text/html": [
       "<div>\n",
       "<style scoped>\n",
       "    .dataframe tbody tr th:only-of-type {\n",
       "        vertical-align: middle;\n",
       "    }\n",
       "\n",
       "    .dataframe tbody tr th {\n",
       "        vertical-align: top;\n",
       "    }\n",
       "\n",
       "    .dataframe thead th {\n",
       "        text-align: right;\n",
       "    }\n",
       "</style>\n",
       "<table border=\"1\" class=\"dataframe\">\n",
       "  <thead>\n",
       "    <tr style=\"text-align: right;\">\n",
       "      <th></th>\n",
       "      <th>id</th>\n",
       "      <th>content</th>\n",
       "      <th>date</th>\n",
       "      <th>metions</th>\n",
       "      <th>hashtags</th>\n",
       "      <th>in_reply_to_user_id_str</th>\n",
       "      <th>is_retweet</th>\n",
       "      <th>retweets</th>\n",
       "      <th>favorites</th>\n",
       "    </tr>\n",
       "  </thead>\n",
       "  <tbody>\n",
       "    <tr>\n",
       "      <th>0</th>\n",
       "      <td>1698308935</td>\n",
       "      <td>Be sure to tune in and watch Donald Trump on L...</td>\n",
       "      <td>2009-05-04 13:54:25</td>\n",
       "      <td>NaN</td>\n",
       "      <td>NaN</td>\n",
       "      <td>NaN</td>\n",
       "      <td>False</td>\n",
       "      <td>501.0</td>\n",
       "      <td>879.0</td>\n",
       "    </tr>\n",
       "    <tr>\n",
       "      <th>1</th>\n",
       "      <td>1701461182</td>\n",
       "      <td>Donald Trump will be appearing on The View tom...</td>\n",
       "      <td>2009-05-04 20:00:10</td>\n",
       "      <td>NaN</td>\n",
       "      <td>NaN</td>\n",
       "      <td>NaN</td>\n",
       "      <td>False</td>\n",
       "      <td>33.0</td>\n",
       "      <td>271.0</td>\n",
       "    </tr>\n",
       "    <tr>\n",
       "      <th>2</th>\n",
       "      <td>1737479987</td>\n",
       "      <td>Donald Trump reads Top Ten Financial Tips on L...</td>\n",
       "      <td>2009-05-08 08:38:08</td>\n",
       "      <td>NaN</td>\n",
       "      <td>NaN</td>\n",
       "      <td>NaN</td>\n",
       "      <td>False</td>\n",
       "      <td>12.0</td>\n",
       "      <td>20.0</td>\n",
       "    </tr>\n",
       "    <tr>\n",
       "      <th>3</th>\n",
       "      <td>1741160716</td>\n",
       "      <td>New Blog Post: Celebrity Apprentice Finale and...</td>\n",
       "      <td>2009-05-08 15:40:15</td>\n",
       "      <td>NaN</td>\n",
       "      <td>NaN</td>\n",
       "      <td>NaN</td>\n",
       "      <td>False</td>\n",
       "      <td>10.0</td>\n",
       "      <td>27.0</td>\n",
       "    </tr>\n",
       "    <tr>\n",
       "      <th>4</th>\n",
       "      <td>1773561338</td>\n",
       "      <td>\"My persona will never be that of a wallflower...</td>\n",
       "      <td>2009-05-12 09:07:28</td>\n",
       "      <td>NaN</td>\n",
       "      <td>NaN</td>\n",
       "      <td>NaN</td>\n",
       "      <td>False</td>\n",
       "      <td>1421.0</td>\n",
       "      <td>1954.0</td>\n",
       "    </tr>\n",
       "    <tr>\n",
       "      <th>5</th>\n",
       "      <td>1776419923</td>\n",
       "      <td>Miss USA Tara Conner will not be fired - \"I've...</td>\n",
       "      <td>2009-05-12 14:21:55</td>\n",
       "      <td>NaN</td>\n",
       "      <td>NaN</td>\n",
       "      <td>NaN</td>\n",
       "      <td>False</td>\n",
       "      <td>28.0</td>\n",
       "      <td>28.0</td>\n",
       "    </tr>\n",
       "    <tr>\n",
       "      <th>6</th>\n",
       "      <td>1786560616</td>\n",
       "      <td>Listen to an interview with Donald Trump discu...</td>\n",
       "      <td>2009-05-13 12:38:28</td>\n",
       "      <td>NaN</td>\n",
       "      <td>NaN</td>\n",
       "      <td>NaN</td>\n",
       "      <td>False</td>\n",
       "      <td>14.0</td>\n",
       "      <td>17.0</td>\n",
       "    </tr>\n",
       "    <tr>\n",
       "      <th>7</th>\n",
       "      <td>1796477499</td>\n",
       "      <td>\"Strive for wholeness and keep your sense of w...</td>\n",
       "      <td>2009-05-14 11:30:40</td>\n",
       "      <td>NaN</td>\n",
       "      <td>NaN</td>\n",
       "      <td>NaN</td>\n",
       "      <td>False</td>\n",
       "      <td>17.0</td>\n",
       "      <td>27.0</td>\n",
       "    </tr>\n",
       "    <tr>\n",
       "      <th>8</th>\n",
       "      <td>1806258917</td>\n",
       "      <td>Enter the \"Think Like A Champion\" signed book ...</td>\n",
       "      <td>2009-05-15 09:13:13</td>\n",
       "      <td>NaN</td>\n",
       "      <td>NaN</td>\n",
       "      <td>NaN</td>\n",
       "      <td>False</td>\n",
       "      <td>14.0</td>\n",
       "      <td>9.0</td>\n",
       "    </tr>\n",
       "    <tr>\n",
       "      <th>9</th>\n",
       "      <td>1820624395</td>\n",
       "      <td>\"When the achiever achieves, it's not a platea...</td>\n",
       "      <td>2009-05-16 17:22:45</td>\n",
       "      <td>NaN</td>\n",
       "      <td>NaN</td>\n",
       "      <td>NaN</td>\n",
       "      <td>False</td>\n",
       "      <td>19.0</td>\n",
       "      <td>49.0</td>\n",
       "    </tr>\n",
       "  </tbody>\n",
       "</table>\n",
       "</div>"
      ],
      "text/plain": [
       "           id                                            content  \\\n",
       "0  1698308935  Be sure to tune in and watch Donald Trump on L...   \n",
       "1  1701461182  Donald Trump will be appearing on The View tom...   \n",
       "2  1737479987  Donald Trump reads Top Ten Financial Tips on L...   \n",
       "3  1741160716  New Blog Post: Celebrity Apprentice Finale and...   \n",
       "4  1773561338  \"My persona will never be that of a wallflower...   \n",
       "5  1776419923  Miss USA Tara Conner will not be fired - \"I've...   \n",
       "6  1786560616  Listen to an interview with Donald Trump discu...   \n",
       "7  1796477499  \"Strive for wholeness and keep your sense of w...   \n",
       "8  1806258917  Enter the \"Think Like A Champion\" signed book ...   \n",
       "9  1820624395  \"When the achiever achieves, it's not a platea...   \n",
       "\n",
       "                  date metions hashtags  in_reply_to_user_id_str is_retweet  \\\n",
       "0  2009-05-04 13:54:25     NaN      NaN                      NaN      False   \n",
       "1  2009-05-04 20:00:10     NaN      NaN                      NaN      False   \n",
       "2  2009-05-08 08:38:08     NaN      NaN                      NaN      False   \n",
       "3  2009-05-08 15:40:15     NaN      NaN                      NaN      False   \n",
       "4  2009-05-12 09:07:28     NaN      NaN                      NaN      False   \n",
       "5  2009-05-12 14:21:55     NaN      NaN                      NaN      False   \n",
       "6  2009-05-13 12:38:28     NaN      NaN                      NaN      False   \n",
       "7  2009-05-14 11:30:40     NaN      NaN                      NaN      False   \n",
       "8  2009-05-15 09:13:13     NaN      NaN                      NaN      False   \n",
       "9  2009-05-16 17:22:45     NaN      NaN                      NaN      False   \n",
       "\n",
       "   retweets  favorites  \n",
       "0     501.0      879.0  \n",
       "1      33.0      271.0  \n",
       "2      12.0       20.0  \n",
       "3      10.0       27.0  \n",
       "4    1421.0     1954.0  \n",
       "5      28.0       28.0  \n",
       "6      14.0       17.0  \n",
       "7      17.0       27.0  \n",
       "8      14.0        9.0  \n",
       "9      19.0       49.0  "
      ]
     },
     "execution_count": 47,
     "metadata": {},
     "output_type": "execute_result"
    }
   ],
   "source": [
    "import pandas as pd\n",
    "\n",
    "mergedData = pd.read_csv(\"data/merged.csv\")\n",
    "\n",
    "mergedData['id'] = mergedData['id'].apply(str)\n",
    "\n",
    "mergedData.head(10)"
   ]
  },
  {
   "cell_type": "code",
   "execution_count": 48,
   "metadata": {},
   "outputs": [
    {
     "data": {
      "text/plain": [
       "(42295, 9)"
      ]
     },
     "execution_count": 48,
     "metadata": {},
     "output_type": "execute_result"
    }
   ],
   "source": [
    "mergedData.shape"
   ]
  },
  {
   "cell_type": "code",
   "execution_count": 4,
   "metadata": {},
   "outputs": [
    {
     "data": {
      "text/html": [
       "<div>\n",
       "<style scoped>\n",
       "    .dataframe tbody tr th:only-of-type {\n",
       "        vertical-align: middle;\n",
       "    }\n",
       "\n",
       "    .dataframe tbody tr th {\n",
       "        vertical-align: top;\n",
       "    }\n",
       "\n",
       "    .dataframe thead th {\n",
       "        text-align: right;\n",
       "    }\n",
       "</style>\n",
       "<table border=\"1\" class=\"dataframe\">\n",
       "  <thead>\n",
       "    <tr style=\"text-align: right;\">\n",
       "      <th></th>\n",
       "      <th>id_str</th>\n",
       "      <th>text</th>\n",
       "      <th>created_at</th>\n",
       "      <th>retweet_count</th>\n",
       "      <th>favorite_count</th>\n",
       "    </tr>\n",
       "    <tr>\n",
       "      <th>id</th>\n",
       "      <th></th>\n",
       "      <th></th>\n",
       "      <th></th>\n",
       "      <th></th>\n",
       "      <th></th>\n",
       "    </tr>\n",
       "  </thead>\n",
       "  <tbody>\n",
       "    <tr>\n",
       "      <th>1698308935</th>\n",
       "      <td>https://twitter.com/realDonaldTrump/status/169...</td>\n",
       "      <td>Be sure to tune in and watch Donald Trump on L...</td>\n",
       "      <td>2009-05-04 18:54:25+00:00</td>\n",
       "      <td>509</td>\n",
       "      <td>917</td>\n",
       "    </tr>\n",
       "    <tr>\n",
       "      <th>1701461182</th>\n",
       "      <td>https://twitter.com/realDonaldTrump/status/170...</td>\n",
       "      <td>Donald Trump will be appearing on The View tom...</td>\n",
       "      <td>2009-05-05 01:00:10+00:00</td>\n",
       "      <td>34</td>\n",
       "      <td>269</td>\n",
       "    </tr>\n",
       "    <tr>\n",
       "      <th>1737479987</th>\n",
       "      <td>https://twitter.com/realDonaldTrump/status/173...</td>\n",
       "      <td>Donald Trump reads Top Ten Financial Tips on L...</td>\n",
       "      <td>2009-05-08 13:38:08+00:00</td>\n",
       "      <td>13</td>\n",
       "      <td>20</td>\n",
       "    </tr>\n",
       "    <tr>\n",
       "      <th>1741160716</th>\n",
       "      <td>https://twitter.com/realDonaldTrump/status/174...</td>\n",
       "      <td>New Blog Post: Celebrity Apprentice Finale and...</td>\n",
       "      <td>2009-05-08 20:40:15+00:00</td>\n",
       "      <td>11</td>\n",
       "      <td>27</td>\n",
       "    </tr>\n",
       "    <tr>\n",
       "      <th>1773561338</th>\n",
       "      <td>https://twitter.com/realDonaldTrump/status/177...</td>\n",
       "      <td>\"My persona will never be that of a wallflower...</td>\n",
       "      <td>2009-05-12 14:07:28+00:00</td>\n",
       "      <td>1376</td>\n",
       "      <td>1951</td>\n",
       "    </tr>\n",
       "    <tr>\n",
       "      <th>1776419923</th>\n",
       "      <td>https://twitter.com/realDonaldTrump/status/177...</td>\n",
       "      <td>Miss USA Tara Conner will not be fired - \"I've...</td>\n",
       "      <td>2009-05-12 19:21:55+00:00</td>\n",
       "      <td>29</td>\n",
       "      <td>29</td>\n",
       "    </tr>\n",
       "    <tr>\n",
       "      <th>1786560616</th>\n",
       "      <td>https://twitter.com/realDonaldTrump/status/178...</td>\n",
       "      <td>Listen to an interview with Donald Trump discu...</td>\n",
       "      <td>2009-05-13 17:38:28+00:00</td>\n",
       "      <td>15</td>\n",
       "      <td>17</td>\n",
       "    </tr>\n",
       "    <tr>\n",
       "      <th>1796477499</th>\n",
       "      <td>https://twitter.com/realDonaldTrump/status/179...</td>\n",
       "      <td>\"Strive for wholeness and keep your sense of w...</td>\n",
       "      <td>2009-05-14 16:30:40+00:00</td>\n",
       "      <td>18</td>\n",
       "      <td>28</td>\n",
       "    </tr>\n",
       "    <tr>\n",
       "      <th>1806258917</th>\n",
       "      <td>https://twitter.com/realDonaldTrump/status/180...</td>\n",
       "      <td>Enter the \"Think Like A Champion\" signed book ...</td>\n",
       "      <td>2009-05-15 14:13:13+00:00</td>\n",
       "      <td>15</td>\n",
       "      <td>10</td>\n",
       "    </tr>\n",
       "    <tr>\n",
       "      <th>1820624395</th>\n",
       "      <td>https://twitter.com/realDonaldTrump/status/182...</td>\n",
       "      <td>\"When the achiever achieves, it's not a platea...</td>\n",
       "      <td>2009-05-16 22:22:45+00:00</td>\n",
       "      <td>19</td>\n",
       "      <td>48</td>\n",
       "    </tr>\n",
       "  </tbody>\n",
       "</table>\n",
       "</div>"
      ],
      "text/plain": [
       "                                                       id_str  \\\n",
       "id                                                              \n",
       "1698308935  https://twitter.com/realDonaldTrump/status/169...   \n",
       "1701461182  https://twitter.com/realDonaldTrump/status/170...   \n",
       "1737479987  https://twitter.com/realDonaldTrump/status/173...   \n",
       "1741160716  https://twitter.com/realDonaldTrump/status/174...   \n",
       "1773561338  https://twitter.com/realDonaldTrump/status/177...   \n",
       "1776419923  https://twitter.com/realDonaldTrump/status/177...   \n",
       "1786560616  https://twitter.com/realDonaldTrump/status/178...   \n",
       "1796477499  https://twitter.com/realDonaldTrump/status/179...   \n",
       "1806258917  https://twitter.com/realDonaldTrump/status/180...   \n",
       "1820624395  https://twitter.com/realDonaldTrump/status/182...   \n",
       "\n",
       "                                                         text  \\\n",
       "id                                                              \n",
       "1698308935  Be sure to tune in and watch Donald Trump on L...   \n",
       "1701461182  Donald Trump will be appearing on The View tom...   \n",
       "1737479987  Donald Trump reads Top Ten Financial Tips on L...   \n",
       "1741160716  New Blog Post: Celebrity Apprentice Finale and...   \n",
       "1773561338  \"My persona will never be that of a wallflower...   \n",
       "1776419923  Miss USA Tara Conner will not be fired - \"I've...   \n",
       "1786560616  Listen to an interview with Donald Trump discu...   \n",
       "1796477499  \"Strive for wholeness and keep your sense of w...   \n",
       "1806258917  Enter the \"Think Like A Champion\" signed book ...   \n",
       "1820624395  \"When the achiever achieves, it's not a platea...   \n",
       "\n",
       "                           created_at  retweet_count  favorite_count  \n",
       "id                                                                    \n",
       "1698308935  2009-05-04 18:54:25+00:00            509             917  \n",
       "1701461182  2009-05-05 01:00:10+00:00             34             269  \n",
       "1737479987  2009-05-08 13:38:08+00:00             13              20  \n",
       "1741160716  2009-05-08 20:40:15+00:00             11              27  \n",
       "1773561338  2009-05-12 14:07:28+00:00           1376            1951  \n",
       "1776419923  2009-05-12 19:21:55+00:00             29              29  \n",
       "1786560616  2009-05-13 17:38:28+00:00             15              17  \n",
       "1796477499  2009-05-14 16:30:40+00:00             18              28  \n",
       "1806258917  2009-05-15 14:13:13+00:00             15              10  \n",
       "1820624395  2009-05-16 22:22:45+00:00             19              48  "
      ]
     },
     "execution_count": 4,
     "metadata": {},
     "output_type": "execute_result"
    }
   ],
   "source": [
    "qualityCheckData = pd.read_csv(\"data/qualityCheckData_2020-06-13.csv\")\n",
    "\n",
    "# change id column to string and make it the index\n",
    "qualityCheckData['id'] = qualityCheckData['id'].apply(str)\n",
    "qualityCheckData = qualityCheckData.set_index('id')\n",
    "\n",
    "qualityCheckData.head(10)"
   ]
  },
  {
   "cell_type": "code",
   "execution_count": 49,
   "metadata": {},
   "outputs": [
    {
     "data": {
      "text/plain": [
       "(42150, 5)"
      ]
     },
     "execution_count": 49,
     "metadata": {},
     "output_type": "execute_result"
    }
   ],
   "source": [
    "qualityCheckData.shape"
   ]
  },
  {
   "cell_type": "markdown",
   "metadata": {},
   "source": [
    "<h2> Comparing the content of the merged Data with the content of the data scraped at 2020-06-13. </h2>"
   ]
  },
  {
   "cell_type": "code",
   "execution_count": 41,
   "metadata": {},
   "outputs": [],
   "source": [
    "from difflib import SequenceMatcher\n",
    "import re\n",
    "\n",
    "def mystrip(s):\n",
    "    # get rid of any whitespaces, tabs, newlines and carriage returns\n",
    "    # in front of and behind the string, just in case\n",
    "    s = s.strip(' \\t\\n\\r')\n",
    "    s = re.sub(r\"https?:\\/\\/\\S+\", \"\", s) #remove urls from a\n",
    "    s = re.sub(r\"pic\\.twitter\\.com\\/\\S+\", \"\", s) #remove picute urls from b\n",
    "    s = re.sub('[\\s+]', '', s.lower() ) #strip whitespace inbetween words and characters\n",
    "    return s\n",
    "\n",
    "def similarity(a, b):\n",
    "    return SequenceMatcher(None, mystrip(a), mystrip(b)).ratio()\n",
    "\n",
    "ids_with_no_text = []\n",
    "ids_with_no_match = []\n",
    "ids_with_low_similarity = []\n",
    "sum_similarities = 0.0\n",
    "sum_retweetsDistance = 0\n",
    "sum_favoritesDistance = 0\n",
    "num_matches = 0\n",
    "\n",
    "for index, row in mergedData.iterrows():\n",
    "    if row['id'] in qualityCheckData.index:\n",
    "        \n",
    "        areStrings = isinstance(row['content'], str) and isinstance(qualityCheckData.at[row['id'], 'text' ], str)\n",
    "        \n",
    "        if not areStrings:\n",
    "            \n",
    "            ids_with_no_text.append(row['id'])\n",
    "            continue\n",
    "            \n",
    "        tmpSimilarity = similarity( row['content'], qualityCheckData.at[row['id'], 'text' ] )\n",
    "        \n",
    "        if tmpSimilarity < 0.9:\n",
    "            \n",
    "            ids_with_low_similarity.append([row['id'],\n",
    "                                            row['content'],\n",
    "                                            qualityCheckData.at[row['id'], 'text'],\n",
    "                                            tmpSimilarity])\n",
    "        sum_similarities += tmpSimilarity\n",
    "        sum_retweetsDistance += abs(row['retweets'] - qualityCheckData.at[row['id'], 'retweet_count' ])\n",
    "        sum_favoritesDistance += abs(row['favorites'] - qualityCheckData.at[row['id'], 'favorite_count' ])\n",
    "        num_matches += 1\n",
    "        \n",
    "    else:\n",
    "        \n",
    "        ids_with_no_match.append(row['id'])\n",
    "\n",
    "average_similarity = sum_similarities / num_matches\n",
    "average_retweetDistance = sum_retweetsDistance / num_matches\n",
    "average_favoriteDistance = sum_favoritesDistance / num_matches\n"
   ]
  },
  {
   "cell_type": "code",
   "execution_count": 42,
   "metadata": {},
   "outputs": [
    {
     "name": "stdout",
     "output_type": "stream",
     "text": [
      "average similarity:  0.997476479861023\n",
      "average retweet distance:  614.3543933656105\n",
      "average favorite distance:  1867.4073630219068\n",
      "Number of ids with similarity below 0.9:  30\n",
      "Number of matches:  41722\n",
      "Number of tweets without text in the check Data:  426\n",
      "Number tweets without a match:  147\n",
      "Number of matches + number of tweets without text + number of tweets with no match:  42295\n"
     ]
    }
   ],
   "source": [
    "print(\"average similarity: \", average_similarity)\n",
    "print(\"average retweet distance: \", average_retweetDistance)\n",
    "print(\"average favorite distance: \", average_favoriteDistance)\n",
    "print(\"Number of ids with similarity below 0.9: \", len(ids_with_low_similarity))\n",
    "print(\"Number of matches: \", num_matches)\n",
    "print(\"Number of tweets without text in the check Data: \", len(ids_with_no_text))\n",
    "print(\"Number tweets without a match: \", len(ids_with_no_match))\n",
    "print(\"Number of matches + number of tweets without text + number of tweets with no match: \",\n",
    "      num_matches + len(ids_with_no_text) + len(ids_with_no_match))"
   ]
  },
  {
   "cell_type": "markdown",
   "metadata": {},
   "source": [
    "As we can see the two datasets are pretty similar. In the list of ids with similarity below 0.9 we can spot why we have a value of 0.95 and not 1. The Library I used to scrape the data for the quality test does not include URL's into the text body of the tweets. Another difference is that mentions have a white space character inbetween the name and the @-sign. To get around those problems I striped the text of any whitespace, urls and twitter picuter urls to compare them. As a result we get an average similarity of 0.99 which is pretty close. The last problem with comparing our scraped data with the data set from kaggle is the presentation of emojis."
   ]
  },
  {
   "cell_type": "code",
   "execution_count": 30,
   "metadata": {},
   "outputs": [
    {
     "name": "stdout",
     "output_type": "stream",
     "text": [
      "['11366768299', '182888648600068096', '182889806953590784', '182891369541545984', '182894962738872322', '182904845047578624', '182908230412939264', '182920478413946880', '182921423575187457', '182922651944230912', '182924179660738560', '313449312367570944', '313455112855121920', '313455619287965697', '313456341412880384', '313456449181319169', '313456639581777921', '313457042935398400', '313457914570489856', '313459226053861377', '313459978348404738', '313462166999146496', '313463029251571712', '313463764966064128', '313464589608177664', '313466007320662016', '313467091120422912', '313469847898050560', '313472689820016640', '313667016554840065', '313669482012876800', '313676691815927808', '313711625595146241', '313718098064711680', '313718385148043264', '313725577783824385', '313729764714229760', '313730158869741568', '313730463153930240', '313734916737204224', '313735229430964227', '313735360003842048', '313736399880871936', '313736647499980800', '313738569946648576', '313743560530857984', '313744229774008322', '313744723930144768', '313745912906276865', '313746254502957056', '313750202450329600', '313756518631747584', '313756542405066752', '313758374900682752', '313760581494644736', '313762661303189504', '313765384668983296', '313765753960681473', '313766543899115521', '313767716878159873', '313771018525241344', '313773437342584832', '313778613000491008', '313779382110023680', '313782128565432321', '313793948218966016', '313797331885629440', '313799951467565056', '313800981366325248', '313801831392374785', '444305117651947520', '444460425984606208', '444460694843695104', '444460931490529280', '444461275343765504', '444461629846335488', '444516226652729344', '444518274790064129', '444528720838414336', '444583888137252864', '444585648482451456', '444585985134047232', '444589124776124416', '575295285460664321', '575300101804965888', '575300723295961088', '575308294513950720', '575312461210980352', '575334980580208640', '575342182262968320', '575392590691987456', '621200439439163392', '626904854900928512', '652217907712274432', '673562693983412224', '705946245290987520', '705963367647698944', '706104797229780993', '706105503202410496', '706107571401134080', '706119343289962496', '706127055285391361', '706149793697902592', '706150457396170753', '706152166205992960', '706152400982179845', '706153159085821952', '706168204259758080', '706176828843663360', '706179514611724288', '706179933480099840', '706185049796943873', '706185780109185024', '706188719548723200', '725377800954220545', '836750538943377408', '836753422271582208', '836933725602656256', '967563946063523840', '967564998238142471', '1098581869233344512', '1098583029713420288', '1098587583469228037', '1098615818512941057', '1098676390780719104', '1157755353876107270', '1180207709985165313', '1201583651252834304', '1204056037684383746', '1211774730258264066', '1222235349117755395', '1224176171547365376', '1229204331112603649', '1229409252344811521', '1229423626438533122', '1229517316188246025', '1229519051514355713', '1229551220248936451', '1229551222648168450', '1230495013634637827', '1242777450662244352', '1250223610867986432', '1250448126835675139', '1250448788386439168', '1250450832937684992', '1250499831132573699', '1250526689702150153']\n"
     ]
    }
   ],
   "source": [
    "print(ids_with_no_match)"
   ]
  },
  {
   "cell_type": "markdown",
   "metadata": {},
   "source": [
    "<h2> Examining the ID's with low similarity</h2>"
   ]
  },
  {
   "cell_type": "code",
   "execution_count": 44,
   "metadata": {
    "scrolled": true,
    "slideshow": {
     "slide_type": "-"
    }
   },
   "outputs": [
    {
     "name": "stdout",
     "output_type": "stream",
     "text": [
      "0 ['248857355880652800', '@ murekar http://www.trump.com/Hotel_Collection/Trump_Washington_DC/Trump_Washington_DC.asp … http://www.essential-architecture.com/A-AMERICA-N/USA/USA-Washington/DC-032.htm …', '@murekar http://www.trump.com/Hotel_Collection/Trump_Washington_DC/Trump_Washington_DC.asp http://www.essential-architecture.com/A-AMERICA-N/USA/USA-Washington/DC-032.htm', 0.8888888888888888]\n",
      "1 ['344275492280606720', '\"@joooooojaah: I am team @ realDonaldTrump <3 <3 <3\" Thanks Georgia!', '\"@joooooojaah: I am team @realDonaldTrump &lt;3 &lt;3 &lt;3\" Thanks Georgia!', 0.88]\n",
      "2 ['568521488103403520', 'Via http://examiner.com http://www.examiner.com/article/fox-news-host-urges-donald-trump-to-run-for-president-2016 …', 'Via http://examiner.com http://www.examiner.com/article/fox-news-host-urges-donald-trump-to-run-for-president-2016', 0.8571428571428571]\n",
      "3 ['1161755131324579840', 'Sad!https://twitter.com/DonaldJTrumpJr/status/1161680797209939968 …', 'Sad!', 0.8888888888888888]\n",
      "4 ['1174025953468530688', 'pic.twitter.com/wrEmfGFRHm https://twitter.com/realDonaldTrump/status/1174017425068576769 …', ' https://twitter.com/realDonaldTrump/status/1174017425068576769', 0.0]\n",
      "5 ['1183098478232256512', 'https://twitter.com/realDonaldTrump/status/1183023558655709184 …pic.twitter.com/LWCWvpeIqn', 'https://twitter.com/realDonaldTrump/status/1183023558655709184', 0.0]\n",
      "6 ['1184236083346919425', 'https://twitter.com/realDonaldTrump/status/1184198558007869440 …pic.twitter.com/YgXImlvOYd', 'https://twitter.com/realDonaldTrump/status/1184198558007869440', 0.0]\n",
      "7 ['1185665748800299009', 'https://www.donaldjtrump.com/events/ms-2019-nov-tupelo/ …', 'https://www.donaldjtrump.com/events/ms-2019-nov-tupelo/', 0.0]\n",
      "8 ['1187876420342689792', 'Wow!https://twitter.com/Jim_Jordan/status/1187820031645798401 …', 'Wow!', 0.8888888888888888]\n",
      "9 ['1187917572102078465', 'https://twitter.com/realDonaldTrump/status/1187819045690773504 …pic.twitter.com/Bxpt7nQTjG', 'https://twitter.com/realDonaldTrump/status/1187819045690773504', 0.0]\n",
      "10 ['1187934016235888641', 'https://twitter.com/robertjeffress/status/1187763371837415424 …pic.twitter.com/iUD808JXyt', 'https://twitter.com/robertjeffress/status/1187763371837415424', 0.0]\n",
      "11 ['1193358534286757888', 'https://twitter.com/realDonaldTrump/status/1193327464308625409 …pic.twitter.com/DWb93QBKjB', 'https://twitter.com/realDonaldTrump/status/1193327464308625409', 0.0]\n",
      "12 ['1193712096137109504', 'https://www.donaldjtrump.com/events/bossier-city-la-2019-nov-djt/ …', 'https://www.donaldjtrump.com/events/bossier-city-la-2019-nov-djt/', 0.0]\n",
      "13 ['1193736163237994497', 'https://twitter.com/WhiteHouse/status/1193581836691226625 …pic.twitter.com/tox0vh5bbd', 'https://twitter.com/WhiteHouse/status/1193581836691226625', 0.0]\n",
      "14 ['1193852154060197895', 'https://twitter.com/BillWhiteNY/status/1193843654647058433 …pic.twitter.com/R5b47GeEp4', 'https://twitter.com/BillWhiteNY/status/1193843654647058433', 0.0]\n",
      "15 ['1195464209594830854', 'https://twitter.com/realDonaldTrump/status/1195379578358960128 …pic.twitter.com/shaijXMXli', 'https://twitter.com/realDonaldTrump/status/1195379578358960128', 0.0]\n",
      "16 ['1196514729767899137', 'https://www.donaldjtrump.com/events/sunrise-fl-nov-26-2019 …', 'https://www.donaldjtrump.com/events/sunrise-fl-nov-26-2019', 0.0]\n",
      "17 ['1197316106236481539', 'https://twitter.com/realDonaldTrump/status/1197293250115014656 …pic.twitter.com/G6lGfyxSUs', 'https://twitter.com/realDonaldTrump/status/1197293250115014656', 0.0]\n",
      "18 ['1200868680491569157', 'https://www.donaldjtrump.com/events/hershey-pa-dec-2019/ …', 'https://www.donaldjtrump.com/events/hershey-pa-dec-2019/', 0.0]\n",
      "19 ['1206590608586027013', 'Wow!https://twitter.com/steph93065/status/1204960786013024257 …', 'Wow!', 0.8888888888888888]\n",
      "20 ['1208260654571896832', 'https://twitter.com/DeptofDefense/status/1208186990400692224 …pic.twitter.com/5iTkl6q9oQ', 'https://twitter.com/DeptofDefense/status/1208186990400692224', 0.0]\n",
      "21 ['1217610329821237248', 'https://twitter.com/WaysandMeansGOP/status/1217508926872334336 …pic.twitter.com/1OIXKTv0hp', 'https://twitter.com/WaysandMeansGOP/status/1217508926872334336', 0.0]\n",
      "22 ['1219854522236968961', 'Wow!https://twitter.com/NRSC/status/1219661000556847107 …', 'Wow!', 0.8888888888888888]\n",
      "23 ['1220865941434699776', 'https://twitter.com/March_for_Life/status/1220845061367353345 …pic.twitter.com/ZPoaFDppg2', 'https://twitter.com/March_for_Life/status/1220845061367353345', 0.0]\n",
      "24 ['1222267800732995585', 'https://twitter.com/WhiteHouse/status/1222243101164625926 …pic.twitter.com/vSV0YPyQrg', 'https://twitter.com/WhiteHouse/status/1222243101164625926', 0.0]\n",
      "25 ['1230303229381971968', 'Wow!https://twitter.com/TeamTrump/status/1230254210928824329 …', 'Wow!', 0.8888888888888888]\n",
      "26 ['1232005756054069248', 'https://twitter.com/narendramodi/status/1231918893964251136 …pic.twitter.com/moveFYzKDq', 'https://twitter.com/narendramodi/status/1231918893964251136', 0.0]\n",
      "27 ['1233022666749157379', 'https://www.donaldjtrump.com/events/north-charleston-sc-feb-28-2020/ …', 'https://www.donaldjtrump.com/events/north-charleston-sc-feb-28-2020/', 0.0]\n",
      "28 ['1233474782026436611', 'pic.twitter.com/xbuiZAdsR7 https://twitter.com/realDonaldTrump/status/1233403109038346246 …', ' https://twitter.com/realDonaldTrump/status/1233403109038346246', 0.0]\n",
      "29 ['1235944077188665344', 'pic.twitter.com/QvDKY27t6h https://twitter.com/SenateGOP/status/1235929951544672256 …', ' https://twitter.com/SenateGOP/status/1235929951544672256', 0.0]\n"
     ]
    }
   ],
   "source": [
    "for index, value in enumerate(ids_with_low_similarity): \n",
    "    print(index, value) "
   ]
  },
  {
   "cell_type": "markdown",
   "metadata": {},
   "source": [
    "<h2> Finding duplicate Rows </h2>"
   ]
  },
  {
   "cell_type": "code",
   "execution_count": 58,
   "metadata": {},
   "outputs": [
    {
     "name": "stdout",
     "output_type": "stream",
     "text": [
      "Duplicate tweets:\n",
      "Empty DataFrame\n",
      "Columns: [id, content, date, metions, hashtags, in_reply_to_user_id_str, is_retweet, retweets, favorites]\n",
      "Index: []\n"
     ]
    }
   ],
   "source": [
    "duplicates = mergedData[mergedData.duplicated(['id'])]\n",
    "\n",
    "print(\"Duplicate tweets:\")\n",
    "print(duplicates)"
   ]
  },
  {
   "cell_type": "markdown",
   "metadata": {},
   "source": [
    "<p> As we can see here the dataframe of duplicates is all empty. This means we have no duplicates in our data set. </p>"
   ]
  },
  {
   "cell_type": "markdown",
   "metadata": {},
   "source": [
    "<h2>Testbench for the strip functionality</h2>\n",
    "\n",
    "Here I examine the strip functionality and the ids with low similiarity"
   ]
  },
  {
   "cell_type": "code",
   "execution_count": 46,
   "metadata": {},
   "outputs": [
    {
     "name": "stdout",
     "output_type": "stream",
     "text": [
      "\"@joooooojaah: I am team @ realDonaldTrump <3 <3 <3\" Thanks Georgia! \n",
      " \"@joooooojaah: I am team @realDonaldTrump &lt;3 &lt;3 &lt;3\" Thanks Georgia!\n",
      "\"@joooooojaah:iamteam@realdonaldtrump<3<3<3\"thanksgeorgia!\n",
      "\"@joooooojaah:iamteam@realdonaldtrump&lt;3&lt;3&lt;3\"thanksgeorgia!\n"
     ]
    },
    {
     "data": {
      "text/plain": [
       "0.88"
      ]
     },
     "execution_count": 46,
     "metadata": {},
     "output_type": "execute_result"
    }
   ],
   "source": [
    "index = 1\n",
    "s = ids_with_low_similarity[index][1]\n",
    "s2 = ids_with_low_similarity[index][2]\n",
    "print(s,\"\\n\", s2)\n",
    "print(mystrip(s))\n",
    "print(mystrip(s2))\n",
    "\n",
    "SequenceMatcher(None, mystrip(s), mystrip(s2)).ratio()"
   ]
  }
 ],
 "metadata": {
  "kernelspec": {
   "display_name": "Python 3",
   "language": "python",
   "name": "python3"
  },
  "language_info": {
   "codemirror_mode": {
    "name": "ipython",
    "version": 3
   },
   "file_extension": ".py",
   "mimetype": "text/x-python",
   "name": "python",
   "nbconvert_exporter": "python",
   "pygments_lexer": "ipython3",
   "version": "3.8.3"
  }
 },
 "nbformat": 4,
 "nbformat_minor": 4
}
